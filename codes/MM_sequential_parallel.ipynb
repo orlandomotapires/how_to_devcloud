{
 "cells": [
  {
   "cell_type": "markdown",
   "id": "c5490fb4-3a99-481a-805b-973f31a03c50",
   "metadata": {},
   "source": [
    "# Sequential execution X Parallel execution."
   ]
  },
  {
   "cell_type": "markdown",
   "id": "8c437072-5424-446c-8a1c-939168636bcf",
   "metadata": {},
   "source": [
    "## Sequential execution:"
   ]
  },
  {
   "cell_type": "markdown",
   "id": "59150f64-dc8a-4f3f-8a66-e0ae1bdc08a7",
   "metadata": {},
   "source": [
    "### First we need to import some libraries and declare some useful variables as folder and file paths:"
   ]
  },
  {
   "cell_type": "code",
   "execution_count": 1,
   "id": "8b7bb8aa-cea2-45a7-ac4a-93233cebbec4",
   "metadata": {},
   "outputs": [],
   "source": [
    "import os\n",
    "\n",
    "folder_name = \"sequential_matrix_multiplication\"\n",
    "os.makedirs(folder_name, exist_ok=True)\n",
    "file_path = os.path.join(folder_name, \"sequential_matrix_multiplication.c\")"
   ]
  },
  {
   "cell_type": "markdown",
   "id": "2b3b2df7-68f3-469a-909a-2752081f2278",
   "metadata": {},
   "source": [
    "### Next we create our matrix multiply sequential code:"
   ]
  },
  {
   "cell_type": "code",
   "execution_count": 2,
   "id": "1dfb4546-2f09-443c-88e6-5dbcb6800a31",
   "metadata": {},
   "outputs": [
    {
     "name": "stdout",
     "output_type": "stream",
     "text": [
      "Overwriting sequential_matrix_multiplication/sequential_matrix_multiplication.c\n"
     ]
    }
   ],
   "source": [
    "%%writefile $file_path\n",
    "#include <iostream>\n",
    "#include <vector>\n",
    "#include <chrono>\n",
    "\n",
    "const int ROWS1 = 1000;\n",
    "const int COLS1 = 1000;\n",
    "const int ROWS2 = 1000;\n",
    "const int COLS2 = 1000;\n",
    "\n",
    "// Function to multiply two matrices\n",
    "void multiplyMatrices(const std::vector<std::vector<int>>& firstMatrix,\n",
    "                      const std::vector<std::vector<int>>& secondMatrix,\n",
    "                      std::vector<std::vector<int>>& result) {\n",
    "    for (int i = 0; i < ROWS1; i++) {\n",
    "        for (int j = 0; j < COLS2; j++) {\n",
    "            result[i][j] = 0;\n",
    "            for (int k = 0; k < COLS1; k++) {\n",
    "                result[i][j] += firstMatrix[i][k] * secondMatrix[k][j];\n",
    "            }\n",
    "        }\n",
    "    }\n",
    "}\n",
    "\n",
    "// Function to display a matrix\n",
    "void displayMatrix(const std::vector<std::vector<int>>& matrix) {\n",
    "    for (const auto& row : matrix) {\n",
    "        for (int val : row) {\n",
    "            std::cout << val << \" \";\n",
    "        }\n",
    "        std::cout << '\\n';\n",
    "    }\n",
    "}\n",
    "\n",
    "int main() {\n",
    "    // Use a fill_value to determine the value to fill the matrices\n",
    "    int fill_value = 1;\n",
    "\n",
    "    // Create and initialize matrices\n",
    "    std::vector<std::vector<int>> firstMatrix(ROWS1, std::vector<int>(COLS1, fill_value));\n",
    "    std::vector<std::vector<int>> secondMatrix(ROWS2, std::vector<int>(COLS2, fill_value));\n",
    "    std::vector<std::vector<int>> resultMatrix(ROWS1, std::vector<int>(COLS2, 0));\n",
    "\n",
    "    // Start measuring time\n",
    "    auto begin = std::chrono::high_resolution_clock::now();\n",
    "\n",
    "    // Perform matrix multiplication\n",
    "    multiplyMatrices(firstMatrix, secondMatrix, resultMatrix);\n",
    "\n",
    "    // Stop measuring time and calculate the elapsed time\n",
    "    auto end = std::chrono::high_resolution_clock::now();\n",
    "    auto time_spent = std::chrono::duration_cast<std::chrono::duration<double>>(end - begin);\n",
    "\n",
    "    // Display the result\n",
    "    //displayMatrix(resultMatrix);\n",
    "\n",
    "    std::cout << time_spent.count() << \"\\n\";\n",
    "\n",
    "    return 0;\n",
    "}"
   ]
  },
  {
   "cell_type": "markdown",
   "id": "09ba7fa7-a8a5-4d8b-bc60-5ffb975ba155",
   "metadata": {},
   "source": [
    "### Now we need to compile the code we wrote:"
   ]
  },
  {
   "cell_type": "code",
   "execution_count": 3,
   "id": "c3f35a13-2e2a-47b7-afcb-46a6cb163e66",
   "metadata": {},
   "outputs": [],
   "source": [
    "!g++ {file_path} -o {folder_name}/sequential_matrix_multiplication"
   ]
  },
  {
   "cell_type": "markdown",
   "id": "751b626d-bce7-4a8e-9523-c1c61cf410dc",
   "metadata": {},
   "source": [
    "### Execute the sequential matrix multiplication:"
   ]
  },
  {
   "cell_type": "code",
   "execution_count": null,
   "id": "da9e1835-da48-44d5-8d39-bc71e408eae1",
   "metadata": {},
   "outputs": [],
   "source": [
    "!./{folder_name}/sequential_matrix_multiplication >> result.txt\n",
    "!cat result.txt"
   ]
  },
  {
   "cell_type": "markdown",
   "id": "04ed2100-9096-427f-a8c8-137d56ba53af",
   "metadata": {},
   "source": [
    "## Parallel execution"
   ]
  },
  {
   "cell_type": "markdown",
   "id": "f406ba54-3ebd-49ac-955e-3272b1b4fc10",
   "metadata": {},
   "source": [
    "### Let's import the libraries and create some useful variables as folder and file names:"
   ]
  },
  {
   "cell_type": "code",
   "execution_count": null,
   "id": "8423313a",
   "metadata": {},
   "outputs": [],
   "source": [
    "import os\n",
    "\n",
    "folder_name = 'dpcpp_matrix_multiplication'\n",
    "os.makedirs(folder_name, exist_ok=True)\n",
    "file_path = os.path.join(folder_name, 'dpcpp_matrix_multiplication.cpp')"
   ]
  },
  {
   "cell_type": "markdown",
   "id": "8c3b9414-ed59-4a99-a496-d9d078472287",
   "metadata": {},
   "source": [
    "### Next we create our matrix multiply parallel code:"
   ]
  },
  {
   "cell_type": "code",
   "execution_count": null,
   "id": "45c6806a",
   "metadata": {},
   "outputs": [],
   "source": [
    "%%writefile $file_path\n",
    "#include <CL/sycl.hpp>\n",
    "#include <iostream>\n",
    "#include <vector>\n",
    "#include <chrono>\n",
    "\n",
    "int main() {\n",
    "    // Set up sizes. Here for simplicity we use small matrices.\n",
    "    const int M = 1000; // rows of A and C\n",
    "    const int N = 1000; // cols of B and C\n",
    "    const int K = 1000; // cols of A and rows of B\n",
    "\n",
    "    // Initialize matrices with some values\n",
    "    std::vector<int> A(M * K, 1); // Matrix A (MxK) with all values set to 1\n",
    "    std::vector<int> B(K * N, 1); // Matrix B (KxN) with all values set to 2\n",
    "    std::vector<int> C(M * N, 0); // Matrix C (MxN) as result matrix with all values set to 0\n",
    "\n",
    "    // Create SYCL buffers for the matrices\n",
    "    sycl::buffer<int> bufA(A.data(), sycl::range<1>(M * K));\n",
    "    sycl::buffer<int> bufB(B.data(), sycl::range<1>(K * N));\n",
    "    sycl::buffer<int> bufC(C.data(), sycl::range<1>(M * N));\n",
    "\n",
    "    // Create a queue to submit work to, with profiling enabled\n",
    "    sycl::queue queue(sycl::default_selector{}, sycl::property::queue::enable_profiling{});\n",
    "\n",
    "    // Start timer for total operation time\n",
    "    auto total_start = std::chrono::steady_clock::now();\n",
    "\n",
    "    // Perform the matrix multiplication\n",
    "    sycl::event event = queue.submit([&](sycl::handler& cgh) {\n",
    "        // Get access to the buffers\n",
    "        auto accA = bufA.get_access<sycl::access::mode::read>(cgh);\n",
    "        auto accB = bufB.get_access<sycl::access::mode::read>(cgh);\n",
    "        auto accC = bufC.get_access<sycl::access::mode::write>(cgh);\n",
    "\n",
    "        // Execute a parallel for-workgroup. Each workgroup takes care of one block of C.\n",
    "        cgh.parallel_for<class matrix_mult>(sycl::range<2>(M, N), [=](sycl::id<2> idx) {\n",
    "            int row = idx[0];\n",
    "            int col = idx[1];\n",
    "            int sum = 0;\n",
    "            for (int k = 0; k < K; ++k) {\n",
    "                sum += accA[row * K + k] * accB[k * N + col];\n",
    "            }\n",
    "            accC[row * N + col] = sum;\n",
    "        });\n",
    "    });\n",
    "\n",
    "    // Wait for the event to complete\n",
    "    event.wait();\n",
    "\n",
    "    // End timer for total operation time\n",
    "    auto total_end = std::chrono::steady_clock::now();\n",
    "\n",
    "    // Calculate time taken to execute the kernel\n",
    "    auto kernel_start_time = event.get_profiling_info<sycl::info::event_profiling::command_start>();\n",
    "    auto kernel_end_time = event.get_profiling_info<sycl::info::event_profiling::command_end>();\n",
    "    auto kernel_time_ns = kernel_end_time - kernel_start_time;\n",
    "\n",
    "    // Access the result\n",
    "    auto accA = bufA.get_access<sycl::access::mode::read>();\n",
    "    auto accB = bufB.get_access<sycl::access::mode::read>();\n",
    "    auto accC = bufC.get_access<sycl::access::mode::read>();\n",
    "    \n",
    "    \n",
    "    /*\n",
    "    // Print the result\n",
    "    std::cout << \"Matrix A:\" << std::endl;\n",
    "    for (int i = 0; i < M; ++i) {\n",
    "        for (int j = 0; j < N; ++j) {\n",
    "            std::cout << accA[i * N + j] << \" \";\n",
    "        }\n",
    "        //std::cout << std::endl;\n",
    "    }\n",
    "\n",
    "    std::cout << \"Matrix B:\" << std::endl;\n",
    "    for (int i = 0; i < M; ++i) {\n",
    "        for (int j = 0; j < N; ++j) {\n",
    "            std::cout << accB[i * N + j] << \" \";\n",
    "        }\n",
    "        std::cout << std::endl;\n",
    "    }\n",
    "\n",
    "    std::cout << \"Result matrix C:\" << std::endl;\n",
    "    for (int i = 0; i < M; ++i) {\n",
    "        for (int j = 0; j < N; ++j) {\n",
    "            std::cout << accC[i * N + j] << \" \";\n",
    "        }\n",
    "        std::cout << std::endl;\n",
    "    }\n",
    "    */\n",
    "\n",
    "    // Print the profiling result\n",
    "    std::cout << kernel_time_ns * 1e-9 << std::endl;\n",
    "\n",
    "    return 0;\n",
    "}"
   ]
  },
  {
   "cell_type": "markdown",
   "id": "a23b6b1d-2a15-45f7-b564-be9dc60f6c79",
   "metadata": {},
   "source": [
    "### Now we need to compile the code we wrote:"
   ]
  },
  {
   "cell_type": "code",
   "execution_count": null,
   "id": "6bd5bed8",
   "metadata": {},
   "outputs": [],
   "source": [
    "!icpx -fsycl {file_path} -w -o {folder_name}/dpcpp_matrix_multiplication"
   ]
  },
  {
   "cell_type": "markdown",
   "id": "d3f5e539-4720-47d8-8e05-5f195cb36ce7",
   "metadata": {},
   "source": [
    "### Execute the parallel matrix multiplication:"
   ]
  },
  {
   "cell_type": "code",
   "execution_count": null,
   "id": "475bb525-3228-4e76-81e0-d53ece083209",
   "metadata": {},
   "outputs": [],
   "source": [
    "!./{folder_name}/dpcpp_matrix_multiplication >> result.txt"
   ]
  },
  {
   "cell_type": "code",
   "execution_count": null,
   "id": "32784456-e739-49dd-b015-376658b1d15e",
   "metadata": {},
   "outputs": [],
   "source": [
    "!cat result.txt"
   ]
  },
  {
   "cell_type": "markdown",
   "id": "3aadfda8-f3ee-42ba-88ce-e5f894b6971c",
   "metadata": {},
   "source": [
    "### Now let's calculate our speedUp: (sequential_execution_time / parallel_execution_time)"
   ]
  },
  {
   "cell_type": "code",
   "execution_count": null,
   "id": "cd4b8fce-5a6f-492d-aa0b-539d239424e0",
   "metadata": {},
   "outputs": [],
   "source": [
    "!echo \"SpeedUp: \"\n",
    "!echo \"scale=10; $(head -n 1 result.txt) / $(tail -n 1 result.txt)\" | bc"
   ]
  },
  {
   "cell_type": "code",
   "execution_count": null,
   "id": "188141b5-6d75-4aa2-9303-275b0518b8c4",
   "metadata": {},
   "outputs": [],
   "source": []
  }
 ],
 "metadata": {
  "kernelspec": {
   "display_name": "Python 3 (ipykernel)",
   "language": "python",
   "name": "python3"
  },
  "language_info": {
   "codemirror_mode": {
    "name": "ipython",
    "version": 3
   },
   "file_extension": ".py",
   "mimetype": "text/x-python",
   "name": "python",
   "nbconvert_exporter": "python",
   "pygments_lexer": "ipython3",
   "version": "3.11.5"
  }
 },
 "nbformat": 4,
 "nbformat_minor": 5
}
